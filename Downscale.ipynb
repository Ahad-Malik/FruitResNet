{
  "cells": [
    {
      "cell_type": "code",
      "execution_count": 3,
      "metadata": {
        "colab": {
          "base_uri": "https://localhost:8080/"
        },
        "id": "wca21KR684hb",
        "outputId": "209759ce-a5d1-4829-9e41-b7e8d5a1bd6a"
      },
      "outputs": [
        {
          "name": "stderr",
          "output_type": "stream",
          "text": [
            "Processing images: 100%|██████████| 16/16 [00:02<00:00,  5.88it/s]"
          ]
        },
        {
          "name": "stdout",
          "output_type": "stream",
          "text": [
            "Image processing completed!\n"
          ]
        },
        {
          "name": "stderr",
          "output_type": "stream",
          "text": [
            "\n"
          ]
        }
      ],
      "source": [
        "import os\n",
        "import cv2\n",
        "import numpy as np\n",
        "from tqdm import tqdm\n",
        "\n",
        "def pixelate_image(image_path, scale_percent, pixelation_factor):\n",
        "    # Read the image\n",
        "    img = cv2.imread(image_path, cv2.IMREAD_UNCHANGED)\n",
        "\n",
        "    # Calculate the new dimensions\n",
        "    width = int(img.shape[1] * scale_percent / 100)\n",
        "    height = int(img.shape[0] * scale_percent / 100)\n",
        "    dim = (width, height)\n",
        "\n",
        "    # Calculate dimensions for pixelation\n",
        "    small_width = max(1, int(width / pixelation_factor))\n",
        "    small_height = max(1, int(height / pixelation_factor))\n",
        "    small_dim = (small_width, small_height)\n",
        "\n",
        "    # Downscale the image to a very small size\n",
        "    small_img = cv2.resize(img, small_dim, interpolation=cv2.INTER_LINEAR)\n",
        "\n",
        "    # Upscale the image to the desired size\n",
        "    result = cv2.resize(small_img, dim, interpolation=cv2.INTER_NEAREST)\n",
        "\n",
        "    return result\n",
        "\n",
        "def process_directory(input_dir, output_dir, scale_percent, pixelation_factor):\n",
        "    if not os.path.exists(output_dir):\n",
        "        os.makedirs(output_dir)\n",
        "\n",
        "    image_files = [f for f in os.listdir(input_dir) if f.lower().endswith(('.png', '.jpg', '.jpeg', '.tiff', '.bmp'))]\n",
        "\n",
        "    for image_file in tqdm(image_files, desc=\"Processing images\"):\n",
        "        input_path = os.path.join(input_dir, image_file)\n",
        "        output_path = os.path.join(output_dir, image_file)\n",
        "\n",
        "        pixelated_img = pixelate_image(input_path, scale_percent, pixelation_factor)\n",
        "\n",
        "        cv2.imwrite(output_path, pixelated_img)\n",
        "\n",
        "# Set your input and output directories\n",
        "input_directory = \"HR\"\n",
        "output_directory = \"LR\"\n",
        "\n",
        "# Set the scale percentage (e.g., 50 for half the original size)\n",
        "scale_percent = 75\n",
        "\n",
        "# Set the pixelation factor (higher values create more pixelation)\n",
        "pixelation_factor = 20\n",
        "\n",
        "# Process the images\n",
        "process_directory(input_directory, output_directory, scale_percent, pixelation_factor)\n",
        "\n",
        "print(\"Image processing completed!\")"
      ]
    }
  ],
  "metadata": {
    "colab": {
      "provenance": []
    },
    "kernelspec": {
      "display_name": "Python 3",
      "name": "python3"
    },
    "language_info": {
      "codemirror_mode": {
        "name": "ipython",
        "version": 3
      },
      "file_extension": ".py",
      "mimetype": "text/x-python",
      "name": "python",
      "nbconvert_exporter": "python",
      "pygments_lexer": "ipython3",
      "version": "3.12.3"
    }
  },
  "nbformat": 4,
  "nbformat_minor": 0
}
